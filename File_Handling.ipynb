{
  "nbformat": 4,
  "nbformat_minor": 0,
  "metadata": {
    "colab": {
      "name": "File_Handling.ipynb",
      "provenance": [],
      "collapsed_sections": [],
      "authorship_tag": "ABX9TyMGJtlZKVXTjwcHbGc/vbIg",
      "include_colab_link": true
    },
    "kernelspec": {
      "name": "python3",
      "display_name": "Python 3"
    }
  },
  "cells": [
    {
      "cell_type": "markdown",
      "metadata": {
        "id": "view-in-github",
        "colab_type": "text"
      },
      "source": [
        "<a href=\"https://colab.research.google.com/github/shivammore/python/blob/master/File_Handling.ipynb\" target=\"_parent\"><img src=\"https://colab.research.google.com/assets/colab-badge.svg\" alt=\"Open In Colab\"/></a>"
      ]
    },
    {
      "cell_type": "markdown",
      "metadata": {
        "id": "nN4tkJ3UmjRW",
        "colab_type": "text"
      },
      "source": [
        "**Program For Creating , Writing and Reading Operation Of File**"
      ]
    },
    {
      "cell_type": "code",
      "metadata": {
        "id": "bpR3N0dyj7OT",
        "colab_type": "code",
        "colab": {
          "base_uri": "https://localhost:8080/",
          "height": 34
        },
        "outputId": "7873679b-56ef-40f9-faa0-38a27bfae544"
      },
      "source": [
        "f = open(\"text.txt\",\"w\") #open file with write mode\n",
        "f.write(\"Hello World\")   #writing file\n",
        "f = open(\"text.txt\",\"r\") #opeing file with read mode\n",
        "print(f.read())          #reading file\n",
        "f.close()                #closing file\n"
      ],
      "execution_count": 31,
      "outputs": [
        {
          "output_type": "stream",
          "text": [
            "Hello World\n"
          ],
          "name": "stdout"
        }
      ]
    },
    {
      "cell_type": "markdown",
      "metadata": {
        "id": "Yb-dgEPQm4Ik",
        "colab_type": "text"
      },
      "source": [
        "**Program For Appending The File**"
      ]
    },
    {
      "cell_type": "code",
      "metadata": {
        "id": "fMDIeIiDm9xM",
        "colab_type": "code",
        "colab": {
          "base_uri": "https://localhost:8080/",
          "height": 102
        },
        "outputId": "07725892-bf2e-47f9-e0c6-c86bffdd5c07"
      },
      "source": [
        "f=open(\"text.txt\",\"a\")        #opeing file with read mode\n",
        "f.write(\"\\nHow are you\\nhi\")\n",
        "f=open(\"text.txt\",\"r\")\n",
        "for re in f:                  #using for loop to read file\n",
        "  print (re)\n",
        "\n",
        "f.close()"
      ],
      "execution_count": 32,
      "outputs": [
        {
          "output_type": "stream",
          "text": [
            "Hello World\n",
            "\n",
            "How are you\n",
            "\n",
            "hi\n"
          ],
          "name": "stdout"
        }
      ]
    },
    {
      "cell_type": "markdown",
      "metadata": {
        "id": "hs6sFB0nvQdk",
        "colab_type": "text"
      },
      "source": [
        "Removing **File**"
      ]
    },
    {
      "cell_type": "code",
      "metadata": {
        "id": "gcCa6Ih4vS7T",
        "colab_type": "code",
        "colab": {}
      },
      "source": [
        "import os\n",
        "os.remove(\"text.txt\")"
      ],
      "execution_count": 0,
      "outputs": []
    },
    {
      "cell_type": "markdown",
      "metadata": {
        "id": "5bU90hnEvzhW",
        "colab_type": "text"
      },
      "source": [
        "**Exercise:**\n",
        "\n",
        "Write a Python Program to write 3 lines in a file and read the file line by line and copy each line to \n",
        "\n",
        "1.To a list Data Structure\n",
        "\n",
        "2.To other File "
      ]
    },
    {
      "cell_type": "code",
      "metadata": {
        "id": "jd44ni1UwJZh",
        "colab_type": "code",
        "colab": {
          "base_uri": "https://localhost:8080/",
          "height": 170
        },
        "outputId": "ed804a19-b5b9-453e-9ce4-c60fce0607c6"
      },
      "source": [
        "List1=[]\n",
        "f=open(\"file1.txt\",\"r\")\n",
        "f1=open(\"writefile.txt\",\"w\")\n",
        "\n",
        "f.write(\"hi\\nhow are you\\nok bye\")\n",
        "for x in f:\n",
        "  List1.append(x)\n",
        "  f1.write(x)\n",
        "\n",
        "\n",
        "print(\"List:\",List1)\n",
        "print(\"\\nFile Content:\\n\")\n",
        "  \n",
        "f1=open(\"writefile.txt\",\"r\")\n",
        "\n",
        "for re in f1:                  #using for loop to read file\n",
        "  print (re)\n",
        "f.close()\n",
        "f1.close()\n",
        "\n"
      ],
      "execution_count": 6,
      "outputs": [
        {
          "output_type": "stream",
          "text": [
            "List: ['hi\\n', 'how are you\\n', 'ok bye']\n",
            "\n",
            "File Content:\n",
            "\n",
            "hi\n",
            "\n",
            "how are you\n",
            "\n",
            "ok bye\n"
          ],
          "name": "stdout"
        }
      ]
    }
  ]
}
